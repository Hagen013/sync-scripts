{
 "cells": [
  {
   "cell_type": "code",
   "execution_count": 1,
   "metadata": {},
   "outputs": [],
   "source": [
    "from utils import *"
   ]
  },
  {
   "cell_type": "code",
   "execution_count": 2,
   "metadata": {},
   "outputs": [],
   "source": [
    "OUTPUT_DIR = '../data'"
   ]
  },
  {
   "cell_type": "code",
   "execution_count": 6,
   "metadata": {},
   "outputs": [],
   "source": [
    "urls = [\n",
    "    URL('http://zakaz.grizzly.su/yandex_export.xml'),\n",
    "    URL('http://www.capitaldist.ru/xml/all_new/export-full.xml'),\n",
    "    URL('http://kant.ru/get-yml.php', login='closed', password='jtoPFnShQp'),\n",
    "    URL('https://www.polashop.ru/bitrix/catalog_export/extreme_opt_559631.php'),\n",
    "    URL('https://www.gretta.ru/sales/xml/presidentwatches.php', offer_selector='item', picture_selector='addphoto'),\n",
    "    URL('http://images.galser.ru/АВАНГАРД.xml'),\n",
    "    URL('http://wildbags.ru/upload/yml.1.xml'),\n",
    "\n",
    "]"
   ]
  },
  {
   "cell_type": "code",
   "execution_count": 7,
   "metadata": {},
   "outputs": [],
   "source": [
    "for url in urls:\n",
    "    get_xlsx(url, OUTPUT_DIR)"
   ]
  },
  {
   "cell_type": "code",
   "execution_count": null,
   "metadata": {},
   "outputs": [],
   "source": []
  }
 ],
 "metadata": {
  "kernelspec": {
   "display_name": "Python 3",
   "language": "python",
   "name": "python3"
  },
  "language_info": {
   "codemirror_mode": {
    "name": "ipython",
    "version": 3
   },
   "file_extension": ".py",
   "mimetype": "text/x-python",
   "name": "python",
   "nbconvert_exporter": "python",
   "pygments_lexer": "ipython3",
   "version": "3.5.3"
  }
 },
 "nbformat": 4,
 "nbformat_minor": 2
}
